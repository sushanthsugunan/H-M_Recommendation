{
 "cells": [
  {
   "cell_type": "code",
   "execution_count": 3,
   "id": "ab6c1607",
   "metadata": {},
   "outputs": [],
   "source": [
    "# Importing libraries\n",
    "import pandas as pd\n",
    "import pickle\n",
    "import matplotlib.pyplot as plt\n",
    "from surprise import Dataset, Reader, accuracy\n",
    "from surprise.model_selection import cross_validate, GridSearchCV, train_test_split\n",
    "from surprise.prediction_algorithms import SVD, SVDpp, NMF"
   ]
  },
  {
   "cell_type": "code",
   "execution_count": 7,
   "id": "fedffe52",
   "metadata": {},
   "outputs": [
    {
     "data": {
      "text/html": [
       "<div>\n",
       "<style scoped>\n",
       "    .dataframe tbody tr th:only-of-type {\n",
       "        vertical-align: middle;\n",
       "    }\n",
       "\n",
       "    .dataframe tbody tr th {\n",
       "        vertical-align: top;\n",
       "    }\n",
       "\n",
       "    .dataframe thead th {\n",
       "        text-align: right;\n",
       "    }\n",
       "</style>\n",
       "<table border=\"1\" class=\"dataframe\">\n",
       "  <thead>\n",
       "    <tr style=\"text-align: right;\">\n",
       "      <th></th>\n",
       "      <th>InvoiceDate</th>\n",
       "      <th>customer_id</th>\n",
       "      <th>article_id</th>\n",
       "      <th>price</th>\n",
       "      <th>sales_channel_id</th>\n",
       "      <th>t_dat</th>\n",
       "      <th>date</th>\n",
       "      <th>bought</th>\n",
       "    </tr>\n",
       "  </thead>\n",
       "  <tbody>\n",
       "    <tr>\n",
       "      <th>0</th>\n",
       "      <td>2020-04-18</td>\n",
       "      <td>000058a12d5b43e67d225668fa1f8d618c13dc232df0ca...</td>\n",
       "      <td>870304002</td>\n",
       "      <td>0.033881</td>\n",
       "      <td>2</td>\n",
       "      <td>2020-04-18</td>\n",
       "      <td>2020-04-18</td>\n",
       "      <td>1</td>\n",
       "    </tr>\n",
       "    <tr>\n",
       "      <th>1</th>\n",
       "      <td>2020-04-11</td>\n",
       "      <td>00007d2de826758b65a93dd24ce629ed66842531df6699...</td>\n",
       "      <td>160442010</td>\n",
       "      <td>0.010831</td>\n",
       "      <td>2</td>\n",
       "      <td>2020-04-11</td>\n",
       "      <td>2020-04-11</td>\n",
       "      <td>1</td>\n",
       "    </tr>\n",
       "    <tr>\n",
       "      <th>2</th>\n",
       "      <td>2020-04-11</td>\n",
       "      <td>00007d2de826758b65a93dd24ce629ed66842531df6699...</td>\n",
       "      <td>372860001</td>\n",
       "      <td>0.010831</td>\n",
       "      <td>2</td>\n",
       "      <td>2020-04-11</td>\n",
       "      <td>2020-04-11</td>\n",
       "      <td>1</td>\n",
       "    </tr>\n",
       "    <tr>\n",
       "      <th>3</th>\n",
       "      <td>2020-04-11</td>\n",
       "      <td>00007d2de826758b65a93dd24ce629ed66842531df6699...</td>\n",
       "      <td>160442007</td>\n",
       "      <td>0.010831</td>\n",
       "      <td>2</td>\n",
       "      <td>2020-04-11</td>\n",
       "      <td>2020-04-11</td>\n",
       "      <td>1</td>\n",
       "    </tr>\n",
       "    <tr>\n",
       "      <th>4</th>\n",
       "      <td>2020-08-06</td>\n",
       "      <td>0008968c0d451dbc5a9968da03196fe20051965edde741...</td>\n",
       "      <td>857812002</td>\n",
       "      <td>0.016932</td>\n",
       "      <td>2</td>\n",
       "      <td>2020-08-06</td>\n",
       "      <td>2020-08-06</td>\n",
       "      <td>1</td>\n",
       "    </tr>\n",
       "  </tbody>\n",
       "</table>\n",
       "</div>"
      ],
      "text/plain": [
       "  InvoiceDate                                        customer_id  article_id  \\\n",
       "0  2020-04-18  000058a12d5b43e67d225668fa1f8d618c13dc232df0ca...   870304002   \n",
       "1  2020-04-11  00007d2de826758b65a93dd24ce629ed66842531df6699...   160442010   \n",
       "2  2020-04-11  00007d2de826758b65a93dd24ce629ed66842531df6699...   372860001   \n",
       "3  2020-04-11  00007d2de826758b65a93dd24ce629ed66842531df6699...   160442007   \n",
       "4  2020-08-06  0008968c0d451dbc5a9968da03196fe20051965edde741...   857812002   \n",
       "\n",
       "      price  sales_channel_id       t_dat        date  bought  \n",
       "0  0.033881                 2  2020-04-18  2020-04-18       1  \n",
       "1  0.010831                 2  2020-04-11  2020-04-11       1  \n",
       "2  0.010831                 2  2020-04-11  2020-04-11       1  \n",
       "3  0.010831                 2  2020-04-11  2020-04-11       1  \n",
       "4  0.016932                 2  2020-08-06  2020-08-06       1  "
      ]
     },
     "execution_count": 7,
     "metadata": {},
     "output_type": "execute_result"
    }
   ],
   "source": [
    "# Dataset loading\n",
    "transactions = pd.read_csv('Dataset/out.zip')\n",
    "transactions.head()"
   ]
  },
  {
   "cell_type": "code",
   "execution_count": 8,
   "id": "646a2944",
   "metadata": {},
   "outputs": [
    {
     "data": {
      "text/plain": [
       "(16818, 8)"
      ]
     },
     "execution_count": 8,
     "metadata": {},
     "output_type": "execute_result"
    }
   ],
   "source": [
    "transactions.shape"
   ]
  },
  {
   "cell_type": "code",
   "execution_count": 14,
   "id": "57ee8540",
   "metadata": {},
   "outputs": [
    {
     "data": {
      "text/plain": [
       "'000058a12d5b43e67d225668fa1f8d618c13dc232df0cad8ffe7ad4a1091e318'"
      ]
     },
     "execution_count": 14,
     "metadata": {},
     "output_type": "execute_result"
    }
   ],
   "source": [
    "transactions.customer_id[0]"
   ]
  },
  {
   "cell_type": "code",
   "execution_count": 10,
   "id": "b44d2bb2",
   "metadata": {},
   "outputs": [],
   "source": [
    "# Splitting data with use of surprise package\n",
    "reader = Reader(rating_scale = (0,1))\n",
    "# Load user_data from imported dataframe specifiyng which columns to use\n",
    "customer_data = Dataset.load_from_df(transactions[['customer_id', 'article_id', 'bought']], reader)"
   ]
  },
  {
   "cell_type": "code",
   "execution_count": 11,
   "id": "0c3dae47",
   "metadata": {},
   "outputs": [],
   "source": [
    "# Perform an appropriate split for the recommendation models\n",
    "trainset, testset = train_test_split(customer_data, test_size=0.2, random_state=50)"
   ]
  },
  {
   "cell_type": "code",
   "execution_count": 12,
   "id": "531ff279",
   "metadata": {},
   "outputs": [
    {
     "name": "stdout",
     "output_type": "stream",
     "text": [
      "Number of users:  3334 \n",
      "\n",
      "Number of items:  973 \n",
      "\n"
     ]
    }
   ],
   "source": [
    "#How many users and items are in the trainset\n",
    "print('Number of users: ', trainset.n_users, '\\n')\n",
    "print('Number of items: ', trainset.n_items, '\\n')"
   ]
  },
  {
   "cell_type": "markdown",
   "id": "d89e34c8",
   "metadata": {},
   "source": [
    "## Development of Model"
   ]
  },
  {
   "cell_type": "code",
   "execution_count": 13,
   "id": "b526ef81",
   "metadata": {},
   "outputs": [
    {
     "name": "stdout",
     "output_type": "stream",
     "text": [
      "RMSE: 0.0643\n"
     ]
    },
    {
     "data": {
      "text/plain": [
       "0.06428085795394738"
      ]
     },
     "execution_count": 13,
     "metadata": {},
     "output_type": "execute_result"
    }
   ],
   "source": [
    "svd_model = SVD()\n",
    "svd_model.fit(trainset)\n",
    "svd_predictions = svd_model.test(testset)\n",
    "svd_simple_predictions = accuracy.rmse(svd_predictions)\n",
    "svd_simple_predictions"
   ]
  },
  {
   "cell_type": "code",
   "execution_count": 15,
   "id": "61f65991",
   "metadata": {},
   "outputs": [
    {
     "data": {
      "text/plain": [
       "Prediction(uid='000058a12d5b43e67d225668fa1f8d618c13dc232df0cad8ffe7ad4a1091e318', iid=902802002, r_ui=None, est=1, details={'was_impossible': False})"
      ]
     },
     "execution_count": 15,
     "metadata": {},
     "output_type": "execute_result"
    }
   ],
   "source": [
    "svd_model.predict('000058a12d5b43e67d225668fa1f8d618c13dc232df0cad8ffe7ad4a1091e318', 902802002)"
   ]
  },
  {
   "cell_type": "code",
   "execution_count": 17,
   "id": "d76a5a35",
   "metadata": {},
   "outputs": [
    {
     "data": {
      "text/html": [
       "<div>\n",
       "<style scoped>\n",
       "    .dataframe tbody tr th:only-of-type {\n",
       "        vertical-align: middle;\n",
       "    }\n",
       "\n",
       "    .dataframe tbody tr th {\n",
       "        vertical-align: top;\n",
       "    }\n",
       "\n",
       "    .dataframe thead th {\n",
       "        text-align: right;\n",
       "    }\n",
       "</style>\n",
       "<table border=\"1\" class=\"dataframe\">\n",
       "  <thead>\n",
       "    <tr style=\"text-align: right;\">\n",
       "      <th></th>\n",
       "      <th>InvoiceDate</th>\n",
       "      <th>customer_id</th>\n",
       "      <th>article_id</th>\n",
       "      <th>price</th>\n",
       "      <th>sales_channel_id</th>\n",
       "      <th>t_dat</th>\n",
       "      <th>date</th>\n",
       "      <th>bought</th>\n",
       "    </tr>\n",
       "  </thead>\n",
       "  <tbody>\n",
       "  </tbody>\n",
       "</table>\n",
       "</div>"
      ],
      "text/plain": [
       "Empty DataFrame\n",
       "Columns: [InvoiceDate, customer_id, article_id, price, sales_channel_id, t_dat, date, bought]\n",
       "Index: []"
      ]
     },
     "execution_count": 17,
     "metadata": {},
     "output_type": "execute_result"
    }
   ],
   "source": [
    "transactions.loc[(transactions['customer_id'] == '000058a12d5b43e67d225668fa1f8d618c13dc232df0cad8ffe7ad4a1091e318') & \n",
    "                 (transactions['article_id'] == 902802002)]"
   ]
  },
  {
   "cell_type": "code",
   "execution_count": 21,
   "id": "2ed0d6a7",
   "metadata": {},
   "outputs": [
    {
     "name": "stderr",
     "output_type": "stream",
     "text": [
      "[Parallel(n_jobs=-2)]: Using backend LokyBackend with 7 concurrent workers.\n",
      "[Parallel(n_jobs=-2)]: Done   4 tasks      | elapsed:    0.0s\n",
      "[Parallel(n_jobs=-2)]: Done 102 tasks      | elapsed:    1.8s\n",
      "[Parallel(n_jobs=-2)]: Done 282 tasks      | elapsed:    6.2s\n",
      "[Parallel(n_jobs=-2)]: Done 534 tasks      | elapsed:   16.2s\n",
      "[Parallel(n_jobs=-2)]: Done 814 tasks      | elapsed:   32.1s\n",
      "[Parallel(n_jobs=-2)]: Done 1012 tasks      | elapsed:   38.9s\n",
      "[Parallel(n_jobs=-2)]: Done 1200 out of 1200 | elapsed:   58.1s finished\n"
     ]
    },
    {
     "data": {
      "text/plain": [
       "{'rmse': {'n_factors': 5, 'n_epochs': 100, 'lr_all': 0.2, 'reg_all': 0.7}}"
      ]
     },
     "execution_count": 21,
     "metadata": {},
     "output_type": "execute_result"
    }
   ],
   "source": [
    "param_grid = {'n_factors':[5,10,50],'n_epochs': [5, 15,15,50,100], 'lr_all': [0.001,0.002,0.01,0.2],\n",
    "             'reg_all': [0.2,0.6,0.7,0.8]}\n",
    "gs_model_SVD1 = GridSearchCV(SVD,param_grid=param_grid,joblib_verbose=5, measures=['RMSE'], n_jobs=-2)\n",
    "gs_model_SVD1.fit(customer_data)\n",
    "\n",
    "gs_model_SVD1.best_params"
   ]
  },
  {
   "cell_type": "markdown",
   "id": "7aa840b6",
   "metadata": {},
   "source": [
    "We obtain the best parameters for SVD as:\n",
    "1. 'n_factors': 5, 'n_epochs': 100, 'lr_all': 0.2, 'reg_all': 0.7"
   ]
  },
  {
   "cell_type": "code",
   "execution_count": 24,
   "id": "9b96cd90",
   "metadata": {},
   "outputs": [
    {
     "name": "stdout",
     "output_type": "stream",
     "text": [
      "RMSE: 0.0139\n"
     ]
    },
    {
     "data": {
      "text/plain": [
       "0.0138603790286618"
      ]
     },
     "execution_count": 24,
     "metadata": {},
     "output_type": "execute_result"
    }
   ],
   "source": [
    "svd_model2 = SVD(n_factors= 5, n_epochs=50)\n",
    "svd_model2.fit(trainset)\n",
    "svd_predictions2 = svd_model2.test(testset)\n",
    "svd_tuned_predictions = accuracy.rmse(svd_predictions2)\n",
    "svd_tuned_predictions"
   ]
  },
  {
   "cell_type": "markdown",
   "id": "ca042e49",
   "metadata": {},
   "source": [
    "## Non-Negative Matrix Factorization"
   ]
  },
  {
   "cell_type": "code",
   "execution_count": 25,
   "id": "b28ae70a",
   "metadata": {},
   "outputs": [
    {
     "name": "stdout",
     "output_type": "stream",
     "text": [
      "RMSE: 0.0685\n"
     ]
    },
    {
     "data": {
      "text/plain": [
       "0.06849813316757467"
      ]
     },
     "execution_count": 25,
     "metadata": {},
     "output_type": "execute_result"
    }
   ],
   "source": [
    "nmf_model = NMF()\n",
    "nmf_model.fit(trainset)\n",
    "nmf_predictions = nmf_model.test(testset)\n",
    "nmf_simple_predictions = accuracy.rmse(nmf_predictions)\n",
    "nmf_simple_predictions"
   ]
  },
  {
   "cell_type": "markdown",
   "id": "30099464",
   "metadata": {},
   "source": [
    "## SVD++"
   ]
  },
  {
   "cell_type": "code",
   "execution_count": 27,
   "id": "bcd88245",
   "metadata": {},
   "outputs": [
    {
     "name": "stdout",
     "output_type": "stream",
     "text": [
      "RMSE: 0.0023\n"
     ]
    },
    {
     "data": {
      "text/plain": [
       "0.0022874324991917967"
      ]
     },
     "execution_count": 27,
     "metadata": {},
     "output_type": "execute_result"
    }
   ],
   "source": [
    "# Instantiate - fit on trainset - score the model on testset\n",
    "SVDpp_model = SVDpp(n_factors=1, n_epochs=100, reg_all=0.1)\n",
    "SVDpp_model.fit(trainset)\n",
    "SVDpp_predictions = SVDpp_model.test(testset)\n",
    "svdpp_simple_predictions = accuracy.rmse(SVDpp_predictions)\n",
    "\n",
    "svdpp_simple_predictions"
   ]
  },
  {
   "cell_type": "code",
   "execution_count": 38,
   "id": "f7656246",
   "metadata": {},
   "outputs": [
    {
     "data": {
      "image/png": "[encoded data removed]",
      "text/plain": [
       "<Figure size 640x480 with 1 Axes>"
      ]
     },
     "metadata": {},
     "output_type": "display_data"
    }
   ],
   "source": [
    "Model =[0.013,0.068,0.002]\n",
    "Column = [\"SVD\",\"NMF\",\"SVD++\"]\n",
    "import seaborn as sns\n",
    "sns.barplot(Model,Column)\n",
    "plt.savefig('plots/Model_comparison.png', dpi=500)"
   ]
  },
  {
   "cell_type": "code",
   "execution_count": 39,
   "id": "1ce25af7",
   "metadata": {},
   "outputs": [],
   "source": [
    "# Dump the best model and use it later\n",
    "pickle.dump(SVDpp_model, open('Models/collaborative_model.sav', 'wb'))"
   ]
  },
  {
   "cell_type": "code",
   "execution_count": 40,
   "id": "33422deb",
   "metadata": {},
   "outputs": [],
   "source": [
    "# Load the model\n",
    "collab_model = pickle.load(open('Models/collaborative_model.sav', 'rb'))"
   ]
  },
  {
   "cell_type": "code",
   "execution_count": 45,
   "id": "6cac212e",
   "metadata": {},
   "outputs": [
    {
     "data": {
      "text/html": [
       "<div>\n",
       "<style scoped>\n",
       "    .dataframe tbody tr th:only-of-type {\n",
       "        vertical-align: middle;\n",
       "    }\n",
       "\n",
       "    .dataframe tbody tr th {\n",
       "        vertical-align: top;\n",
       "    }\n",
       "\n",
       "    .dataframe thead th {\n",
       "        text-align: right;\n",
       "    }\n",
       "</style>\n",
       "<table border=\"1\" class=\"dataframe\">\n",
       "  <thead>\n",
       "    <tr style=\"text-align: right;\">\n",
       "      <th></th>\n",
       "      <th>product_code</th>\n",
       "      <th>prod_name</th>\n",
       "      <th>product_type_no</th>\n",
       "      <th>product_type_name</th>\n",
       "      <th>product_group_name</th>\n",
       "      <th>graphical_appearance_no</th>\n",
       "      <th>graphical_appearance_name</th>\n",
       "      <th>colour_group_code</th>\n",
       "      <th>colour_group_name</th>\n",
       "      <th>perceived_colour_value_id</th>\n",
       "      <th>...</th>\n",
       "      <th>department_name</th>\n",
       "      <th>index_code</th>\n",
       "      <th>index_name</th>\n",
       "      <th>index_group_no</th>\n",
       "      <th>index_group_name</th>\n",
       "      <th>section_no</th>\n",
       "      <th>section_name</th>\n",
       "      <th>garment_group_no</th>\n",
       "      <th>garment_group_name</th>\n",
       "      <th>detail_desc</th>\n",
       "    </tr>\n",
       "    <tr>\n",
       "      <th>article_id</th>\n",
       "      <th></th>\n",
       "      <th></th>\n",
       "      <th></th>\n",
       "      <th></th>\n",
       "      <th></th>\n",
       "      <th></th>\n",
       "      <th></th>\n",
       "      <th></th>\n",
       "      <th></th>\n",
       "      <th></th>\n",
       "      <th></th>\n",
       "      <th></th>\n",
       "      <th></th>\n",
       "      <th></th>\n",
       "      <th></th>\n",
       "      <th></th>\n",
       "      <th></th>\n",
       "      <th></th>\n",
       "      <th></th>\n",
       "      <th></th>\n",
       "      <th></th>\n",
       "    </tr>\n",
       "  </thead>\n",
       "  <tbody>\n",
       "    <tr>\n",
       "      <th>108775015</th>\n",
       "      <td>108775</td>\n",
       "      <td>Strap top</td>\n",
       "      <td>253</td>\n",
       "      <td>Vest top</td>\n",
       "      <td>Garment Upper body</td>\n",
       "      <td>1010016</td>\n",
       "      <td>Solid</td>\n",
       "      <td>9</td>\n",
       "      <td>Black</td>\n",
       "      <td>4</td>\n",
       "      <td>...</td>\n",
       "      <td>Jersey Basic</td>\n",
       "      <td>A</td>\n",
       "      <td>Ladieswear</td>\n",
       "      <td>1</td>\n",
       "      <td>Ladieswear</td>\n",
       "      <td>16</td>\n",
       "      <td>Womens Everyday Basics</td>\n",
       "      <td>1002</td>\n",
       "      <td>Jersey Basic</td>\n",
       "      <td>Jersey top with narrow shoulder straps.</td>\n",
       "    </tr>\n",
       "    <tr>\n",
       "      <th>108775044</th>\n",
       "      <td>108775</td>\n",
       "      <td>Strap top</td>\n",
       "      <td>253</td>\n",
       "      <td>Vest top</td>\n",
       "      <td>Garment Upper body</td>\n",
       "      <td>1010016</td>\n",
       "      <td>Solid</td>\n",
       "      <td>10</td>\n",
       "      <td>White</td>\n",
       "      <td>3</td>\n",
       "      <td>...</td>\n",
       "      <td>Jersey Basic</td>\n",
       "      <td>A</td>\n",
       "      <td>Ladieswear</td>\n",
       "      <td>1</td>\n",
       "      <td>Ladieswear</td>\n",
       "      <td>16</td>\n",
       "      <td>Womens Everyday Basics</td>\n",
       "      <td>1002</td>\n",
       "      <td>Jersey Basic</td>\n",
       "      <td>Jersey top with narrow shoulder straps.</td>\n",
       "    </tr>\n",
       "    <tr>\n",
       "      <th>108775051</th>\n",
       "      <td>108775</td>\n",
       "      <td>Strap top (1)</td>\n",
       "      <td>253</td>\n",
       "      <td>Vest top</td>\n",
       "      <td>Garment Upper body</td>\n",
       "      <td>1010017</td>\n",
       "      <td>Stripe</td>\n",
       "      <td>11</td>\n",
       "      <td>Off White</td>\n",
       "      <td>1</td>\n",
       "      <td>...</td>\n",
       "      <td>Jersey Basic</td>\n",
       "      <td>A</td>\n",
       "      <td>Ladieswear</td>\n",
       "      <td>1</td>\n",
       "      <td>Ladieswear</td>\n",
       "      <td>16</td>\n",
       "      <td>Womens Everyday Basics</td>\n",
       "      <td>1002</td>\n",
       "      <td>Jersey Basic</td>\n",
       "      <td>Jersey top with narrow shoulder straps.</td>\n",
       "    </tr>\n",
       "  </tbody>\n",
       "</table>\n",
       "<p>3 rows × 24 columns</p>\n",
       "</div>"
      ],
      "text/plain": [
       "            product_code      prod_name  product_type_no product_type_name  \\\n",
       "article_id                                                                   \n",
       "108775015         108775      Strap top              253          Vest top   \n",
       "108775044         108775      Strap top              253          Vest top   \n",
       "108775051         108775  Strap top (1)              253          Vest top   \n",
       "\n",
       "            product_group_name  graphical_appearance_no  \\\n",
       "article_id                                                \n",
       "108775015   Garment Upper body                  1010016   \n",
       "108775044   Garment Upper body                  1010016   \n",
       "108775051   Garment Upper body                  1010017   \n",
       "\n",
       "           graphical_appearance_name  colour_group_code colour_group_name  \\\n",
       "article_id                                                                  \n",
       "108775015                      Solid                  9             Black   \n",
       "108775044                      Solid                 10             White   \n",
       "108775051                     Stripe                 11         Off White   \n",
       "\n",
       "            perceived_colour_value_id  ... department_name  index_code  \\\n",
       "article_id                             ...                               \n",
       "108775015                           4  ...    Jersey Basic           A   \n",
       "108775044                           3  ...    Jersey Basic           A   \n",
       "108775051                           1  ...    Jersey Basic           A   \n",
       "\n",
       "            index_name  index_group_no index_group_name section_no  \\\n",
       "article_id                                                           \n",
       "108775015   Ladieswear               1       Ladieswear         16   \n",
       "108775044   Ladieswear               1       Ladieswear         16   \n",
       "108775051   Ladieswear               1       Ladieswear         16   \n",
       "\n",
       "                      section_name  garment_group_no garment_group_name  \\\n",
       "article_id                                                                \n",
       "108775015   Womens Everyday Basics              1002       Jersey Basic   \n",
       "108775044   Womens Everyday Basics              1002       Jersey Basic   \n",
       "108775051   Womens Everyday Basics              1002       Jersey Basic   \n",
       "\n",
       "                                        detail_desc  \n",
       "article_id                                           \n",
       "108775015   Jersey top with narrow shoulder straps.  \n",
       "108775044   Jersey top with narrow shoulder straps.  \n",
       "108775051   Jersey top with narrow shoulder straps.  \n",
       "\n",
       "[3 rows x 24 columns]"
      ]
     },
     "execution_count": 45,
     "metadata": {},
     "output_type": "execute_result"
    }
   ],
   "source": [
    "# Load in the meta data for use in returning the details about the recommended articles \n",
    "meta_articles = pd.read_csv('Dataset/articles.csv', index_col='article_id')\n",
    "meta_articles.head(3)"
   ]
  },
  {
   "cell_type": "code",
   "execution_count": 46,
   "id": "ded844e4",
   "metadata": {},
   "outputs": [
    {
     "data": {
      "text/html": [
       "<div>\n",
       "<style scoped>\n",
       "    .dataframe tbody tr th:only-of-type {\n",
       "        vertical-align: middle;\n",
       "    }\n",
       "\n",
       "    .dataframe tbody tr th {\n",
       "        vertical-align: top;\n",
       "    }\n",
       "\n",
       "    .dataframe thead th {\n",
       "        text-align: right;\n",
       "    }\n",
       "</style>\n",
       "<table border=\"1\" class=\"dataframe\">\n",
       "  <thead>\n",
       "    <tr style=\"text-align: right;\">\n",
       "      <th></th>\n",
       "      <th>article_id</th>\n",
       "    </tr>\n",
       "    <tr>\n",
       "      <th>customer_id</th>\n",
       "      <th></th>\n",
       "    </tr>\n",
       "  </thead>\n",
       "  <tbody>\n",
       "    <tr>\n",
       "      <th>000058a12d5b43e67d225668fa1f8d618c13dc232df0cad8ffe7ad4a1091e318</th>\n",
       "      <td>870304002</td>\n",
       "    </tr>\n",
       "    <tr>\n",
       "      <th>00007d2de826758b65a93dd24ce629ed66842531df6699338c5570910a014cc2</th>\n",
       "      <td>160442010</td>\n",
       "    </tr>\n",
       "    <tr>\n",
       "      <th>00007d2de826758b65a93dd24ce629ed66842531df6699338c5570910a014cc2</th>\n",
       "      <td>372860001</td>\n",
       "    </tr>\n",
       "    <tr>\n",
       "      <th>00007d2de826758b65a93dd24ce629ed66842531df6699338c5570910a014cc2</th>\n",
       "      <td>160442007</td>\n",
       "    </tr>\n",
       "    <tr>\n",
       "      <th>0008968c0d451dbc5a9968da03196fe20051965edde7413775c4eb3be9abe9c2</th>\n",
       "      <td>857812002</td>\n",
       "    </tr>\n",
       "  </tbody>\n",
       "</table>\n",
       "</div>"
      ],
      "text/plain": [
       "                                                    article_id\n",
       "customer_id                                                   \n",
       "000058a12d5b43e67d225668fa1f8d618c13dc232df0cad...   870304002\n",
       "00007d2de826758b65a93dd24ce629ed66842531df66993...   160442010\n",
       "00007d2de826758b65a93dd24ce629ed66842531df66993...   372860001\n",
       "00007d2de826758b65a93dd24ce629ed66842531df66993...   160442007\n",
       "0008968c0d451dbc5a9968da03196fe20051965edde7413...   857812002"
      ]
     },
     "execution_count": 46,
     "metadata": {},
     "output_type": "execute_result"
    }
   ],
   "source": [
    "# The transactions data is subset to just show customers and the articles they have bought\n",
    "df_customer = transactions.set_index('customer_id')\n",
    "df_customer.drop(columns=['InvoiceDate', 'price', 'sales_channel_id', 't_dat', 'date', 'bought'], inplace=True)\n",
    "df_customer.head()"
   ]
  },
  {
   "cell_type": "code",
   "execution_count": 69,
   "id": "83496370",
   "metadata": {},
   "outputs": [],
   "source": [
    "# Save the `df_customer` as a new csv\n",
    "df_customer['article_id'] = df_customer['article_id'].astype(str)\n",
    "df_customer.to_csv('Dataset/df_customer.csv')"
   ]
  },
  {
   "cell_type": "code",
   "execution_count": 48,
   "id": "e70041c9",
   "metadata": {},
   "outputs": [],
   "source": [
    "df_customer = pd.read_csv('Dataset/df_customer.csv', index_col='customer_id')"
   ]
  },
  {
   "cell_type": "code",
   "execution_count": 72,
   "id": "5555dc28",
   "metadata": {},
   "outputs": [
    {
     "data": {
      "text/plain": [
       "str"
      ]
     },
     "execution_count": 72,
     "metadata": {},
     "output_type": "execute_result"
    }
   ],
   "source": [
    "type(df_customer['article_id'][0])"
   ]
  },
  {
   "cell_type": "code",
   "execution_count": 75,
   "id": "2db61572",
   "metadata": {},
   "outputs": [],
   "source": [
    "def customer_article_recommendation():\n",
    "    \n",
    "    user = input('CustomerID: ')\n",
    "    n_recs = int(input('How many recommendations? '))\n",
    "    \n",
    "    have_bought = [pd.to_numeric(df_customer.loc[user, 'article_id'])]\n",
    "    not_bought = meta_articles.copy()\n",
    "    not_bought.drop(have_bought, inplace=True)\n",
    "    not_bought.reset_index(inplace=True)\n",
    "    not_bought['est_purchase'] = not_bought['article_id'].apply(lambda x: collab_model.predict(user, x).est)\n",
    "    not_bought.sort_values(by='est_purchase', ascending=False, inplace=True)\n",
    "    \n",
    "    not_bought.rename(columns={'prod_name':'Product Name','product_type_name':'Product Type Name', 'product_group_name':'Product Group Name',\n",
    "                               'index_group_name':'Index Group Name', 'garment_group_name':'Garment Group Name'}, inplace=True)\n",
    "    not_bought = not_bought[['article_id','Product Name', 'Product Type Name', 'Product Group Name', 'Index Group Name', 'Garment Group Name']]\n",
    "    not_bought.iloc[:100, :]\n",
    "    not_bought = not_bought.sample(frac=1).reset_index(drop=True)\n",
    "    return not_bought.head(n_recs)"
   ]
  },
  {
   "cell_type": "code",
   "execution_count": 77,
   "id": "876e45c4",
   "metadata": {},
   "outputs": [
    {
     "name": "stdout",
     "output_type": "stream",
     "text": [
      "CustomerID: 007e4c2e0994b4aac97c2713d5dc0b7497d74113f32446868ca22b6437e9594d\n",
      "How many recommendations? 5\n"
     ]
    },
    {
     "data": {
      "text/html": [
       "<div>\n",
       "<style scoped>\n",
       "    .dataframe tbody tr th:only-of-type {\n",
       "        vertical-align: middle;\n",
       "    }\n",
       "\n",
       "    .dataframe tbody tr th {\n",
       "        vertical-align: top;\n",
       "    }\n",
       "\n",
       "    .dataframe thead th {\n",
       "        text-align: right;\n",
       "    }\n",
       "</style>\n",
       "<table border=\"1\" class=\"dataframe\">\n",
       "  <thead>\n",
       "    <tr style=\"text-align: right;\">\n",
       "      <th></th>\n",
       "      <th>article_id</th>\n",
       "      <th>Product Name</th>\n",
       "      <th>Product Type Name</th>\n",
       "      <th>Product Group Name</th>\n",
       "      <th>Index Group Name</th>\n",
       "      <th>Garment Group Name</th>\n",
       "    </tr>\n",
       "  </thead>\n",
       "  <tbody>\n",
       "    <tr>\n",
       "      <th>0</th>\n",
       "      <td>806735001</td>\n",
       "      <td>MUSTARD shirtjacket</td>\n",
       "      <td>Jacket</td>\n",
       "      <td>Garment Upper body</td>\n",
       "      <td>Menswear</td>\n",
       "      <td>Outdoor</td>\n",
       "    </tr>\n",
       "    <tr>\n",
       "      <th>1</th>\n",
       "      <td>869418002</td>\n",
       "      <td>Zeppelin Zip SS</td>\n",
       "      <td>Sweater</td>\n",
       "      <td>Garment Upper body</td>\n",
       "      <td>Divided</td>\n",
       "      <td>Knitwear</td>\n",
       "    </tr>\n",
       "    <tr>\n",
       "      <th>2</th>\n",
       "      <td>750847006</td>\n",
       "      <td>Basic Detroit Skirt</td>\n",
       "      <td>Skirt</td>\n",
       "      <td>Garment Lower body</td>\n",
       "      <td>Baby/Children</td>\n",
       "      <td>Knitwear</td>\n",
       "    </tr>\n",
       "    <tr>\n",
       "      <th>3</th>\n",
       "      <td>726565001</td>\n",
       "      <td>Penny L/S top</td>\n",
       "      <td>Top</td>\n",
       "      <td>Garment Upper body</td>\n",
       "      <td>Baby/Children</td>\n",
       "      <td>Jersey Fancy</td>\n",
       "    </tr>\n",
       "    <tr>\n",
       "      <th>4</th>\n",
       "      <td>675095002</td>\n",
       "      <td>Nikita knitted top</td>\n",
       "      <td>Vest top</td>\n",
       "      <td>Garment Upper body</td>\n",
       "      <td>Ladieswear</td>\n",
       "      <td>Knitwear</td>\n",
       "    </tr>\n",
       "  </tbody>\n",
       "</table>\n",
       "</div>"
      ],
      "text/plain": [
       "   article_id         Product Name Product Type Name  Product Group Name  \\\n",
       "0   806735001  MUSTARD shirtjacket            Jacket  Garment Upper body   \n",
       "1   869418002      Zeppelin Zip SS           Sweater  Garment Upper body   \n",
       "2   750847006  Basic Detroit Skirt             Skirt  Garment Lower body   \n",
       "3   726565001        Penny L/S top               Top  Garment Upper body   \n",
       "4   675095002   Nikita knitted top          Vest top  Garment Upper body   \n",
       "\n",
       "  Index Group Name Garment Group Name  \n",
       "0         Menswear            Outdoor  \n",
       "1          Divided           Knitwear  \n",
       "2    Baby/Children           Knitwear  \n",
       "3    Baby/Children       Jersey Fancy  \n",
       "4       Ladieswear           Knitwear  "
      ]
     },
     "execution_count": 77,
     "metadata": {},
     "output_type": "execute_result"
    }
   ],
   "source": [
    "example = customer_article_recommendation()\n",
    "\n",
    "example"
   ]
  },
  {
   "cell_type": "code",
   "execution_count": null,
   "id": "b5bea3bd",
   "metadata": {},
   "outputs": [],
   "source": []
  }
 ],
 "metadata": {
  "kernelspec": {
   "display_name": "Python 3 (ipykernel)",
   "language": "python",
   "name": "python3"
  },
  "language_info": {
   "codemirror_mode": {
    "name": "ipython",
    "version": 3
   },
   "file_extension": ".py",
   "mimetype": "text/x-python",
   "name": "python",
   "nbconvert_exporter": "python",
   "pygments_lexer": "ipython3",
   "version": "3.9.13"
  }
 },
 "nbformat": 4,
 "nbformat_minor": 5
}
